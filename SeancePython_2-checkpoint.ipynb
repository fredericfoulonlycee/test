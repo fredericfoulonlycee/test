{
 "cells": [
  {
   "cell_type": "markdown",
   "metadata": {},
   "source": [
    "# Séance 2 : Boucles bornées et non bornées "
   ]
  },
  {
   "cell_type": "markdown",
   "metadata": {},
   "source": [
    "## Activité 1 : Calcul de sommes"
   ]
  },
  {
   "cell_type": "markdown",
   "metadata": {},
   "source": [
    "on veut calculer $S=1+2^2+3^2+....+20^2$"
   ]
  },
  {
   "cell_type": "markdown",
   "metadata": {},
   "source": [
    "Compléter cet algorithme "
   ]
  },
  {
   "cell_type": "code",
   "execution_count": 9,
   "metadata": {},
   "outputs": [],
   "source": [
    "def somme():\n",
    "    S=0\n",
    "    for i in range(1,21):\n",
    "        S=S+i**2\n",
    "    return S "
   ]
  },
  {
   "cell_type": "code",
   "execution_count": 10,
   "metadata": {},
   "outputs": [
    {
     "data": {
      "text/plain": [
       "2870"
      ]
     },
     "execution_count": 10,
     "metadata": {},
     "output_type": "execute_result"
    }
   ],
   "source": [
    "somme()"
   ]
  },
  {
   "cell_type": "markdown",
   "metadata": {},
   "source": [
    "## Activité 2 : Légende"
   ]
  },
  {
   "cell_type": "markdown",
   "metadata": {},
   "source": [
    "Une ancienne légende raconte que le jeu d’échecs a été inventé par un vieux sage. Son roi voulut le remercier en lui accordant n’importe quel cadeau en récompense. Le vieux sage demanda qu’on lui fournisse un peu de riz pour ses vieux jours, et plus précisément qu’on place :\n",
    "un grain de riz sur la première case du jeu qu’il venait d’inventer, puis deux grains de riz sur la case suivante, puis quatre grains de riz sur la troisième case, et ainsi de suite, en doublant le nombre de grain de riz entre une case et la suivante, et ce jusqu’à la 64 ème case (puisqu’un plateau de jeu d’échecs comporte 64 cases)."
   ]
  },
  {
   "cell_type": "markdown",
   "metadata": {},
   "source": [
    "<IMG SRC=\"riz.png\" width=\"50\">"
   ]
  },
  {
   "cell_type": "markdown",
   "metadata": {},
   "source": []
  }
 ],
 "metadata": {
  "kernelspec": {
   "display_name": "Python 3",
   "language": "python",
   "name": "python3"
  },
  "language_info": {
   "codemirror_mode": {
    "name": "ipython",
    "version": 3
   },
   "file_extension": ".py",
   "mimetype": "text/x-python",
   "name": "python",
   "nbconvert_exporter": "python",
   "pygments_lexer": "ipython3",
   "version": "3.7.4"
  }
 },
 "nbformat": 4,
 "nbformat_minor": 2
}

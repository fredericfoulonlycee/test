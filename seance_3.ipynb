{
 "cells": [
  {
   "cell_type": "markdown",
   "metadata": {},
   "source": [
    "## Activité 1 : Un jeu "
   ]
  },
  {
   "cell_type": "markdown",
   "metadata": {},
   "source": [
    "On veut écrire le programme du jeu suivant :\n",
    "+ l'ordinateur choisit un nombre entier au hasard entre 1 et 200\n",
    "+ l'utilisateur propose à l'ordinateur des nombres\n",
    "+ l'ordinateur répond \"plus grand\", \"plus petit\" ou \"gagné !\" lorsque l'utilisateur propose un nombre\n",
    "\n",
    "Compléter l'algorithme suivant et recopier sur votre **compte rendu**  "
   ]
  },
  {
   "cell_type": "code",
   "execution_count": null,
   "metadata": {},
   "outputs": [],
   "source": [
    "from random import randint\n",
    "nombre = randint(1,200)\n",
    "reponse = int(input(\"entrer une nombre entier entre 1 et 200 :\"))\n",
    "while reponse != .........:\n",
    "    if .........<.........:\n",
    "        print(\"trop petit\")\n",
    "        reponse = int(input(\"entrer une nombre entier entre 1 et 200 :\"))\n",
    "    else :\n",
    "        print(\".........\")\n",
    "        reponse = int(input(\"entrer une nombre entier entre 1 et 200 :\"))\n",
    "    print(\".........\")"
   ]
  },
  {
   "cell_type": "markdown",
   "metadata": {},
   "source": [
    "Modifier le programme précédent pour qu'il compte et affiche le nombre de coups qu'il a fallu à l'utilisateur pour gagner."
   ]
  },
  {
   "cell_type": "code",
   "execution_count": null,
   "metadata": {},
   "outputs": [],
   "source": []
  }
 ],
 "metadata": {
  "kernelspec": {
   "display_name": "Python 3",
   "language": "python",
   "name": "python3"
  },
  "language_info": {
   "codemirror_mode": {
    "name": "ipython",
    "version": 3
   },
   "file_extension": ".py",
   "mimetype": "text/x-python",
   "name": "python",
   "nbconvert_exporter": "python",
   "pygments_lexer": "ipython3",
   "version": "3.7.4"
  }
 },
 "nbformat": 4,
 "nbformat_minor": 2
}

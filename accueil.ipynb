{
 "cells": [
  {
   "cell_type": "markdown",
   "metadata": {},
   "source": [
    "# Introduction : Mise à niveau Python Première Générale Spé Maths"
   ]
  },
  {
   "cell_type": "markdown",
   "metadata": {},
   "source": [
    "Ce document interactif est destiné à redémarrer votre apprentissage de l'algorithmique\n",
    "et de la programmation avec le langage Python : <IMG SRC=\"python.png\" width=\"75\">\n"
   ]
  },
  {
   "cell_type": "markdown",
   "metadata": {},
   "source": [
    "À partir de ce fichier, vous pouvez accéder rapidement à tous les exercices.\n",
    "\n",
    "Nous allons utiliser jupyter qui permet d'avoir dans un fichier html des véritables morceaux de Python.\n",
    "\n",
    "<table><tr><td>Tout repose sur cette barre d'icônes</td><td> <IMG SRC=\"run.png\"></td><td> en haut de cette page.</td></tr>\n",
    "<tr><td></td><td>**run cell, interrupt kernel, restart kernel**</td><td></td></tr></table>\n",
    "\n",
    "L'icône **run cell**, qui est la plus à gauche dans la barre, permet de faire fonctionner une cellule (paragraphe)\n",
    "\n",
    "- Elle permet d'exécuter du code source Python (code).\n",
    "- Elle permet d'afficher correctement les paragraphes d'explications (markdown)\n",
    "\n",
    "L'icône **interrupt kernel**, qui est au centre dans la barre, permet d'arrêter du code Python \"planté\".\n",
    "\n",
    "L'icône **restart kernel**, qui est la plus à droite dans la barre, permet de remettre Python à zéro."
   ]
  },
  {
   "cell_type": "markdown",
   "metadata": {},
   "source": [
    "## Une seul règle : Pratiquez !\n"
   ]
  },
  {
   "cell_type": "markdown",
   "metadata": {},
   "source": [
    "Nous allons revoir les principales capacités qu'il faut bien maitriser en fin de seconde pour aborder sereinement l'algorithmique en classe de première sont les suivantes :  "
   ]
  },
  {
   "cell_type": "markdown",
   "metadata": {},
   "source": [
    "Choisir ou déterminer le type d’une variable (entier, flottant ou chaîne de caractères).\n",
    "+ Concevoir et écrire une instruction d’affectation, une séquence d’instructions, une\n",
    "instruction conditionnelle.\n",
    "+ Écrire une formule permettant un calcul combinant des variables.\n",
    "+ Programmer, dans des cas simples, une boucle bornée, une boucle non bornée.\n",
    "+ Dans des cas plus complexes : lire, comprendre, modifier ou compléter un algorithme\n",
    "ou un programme."
   ]
  },
  {
   "cell_type": "markdown",
   "metadata": {},
   "source": [
    "## Liste des séances\n",
    "\n",
    "[Séance 1](Seance_1.ipynb) : Ce lien vous emmène vers la première séance Programme, affectation, variables\n",
    "\n",
    "[Séance 2](Seance_2.ipynb) : Ce lien vous emmène vers les boucles.\n",
    "\n",
    "[Séance 3](Seance_3.ipynb) : Des exercices pour s'entrainer ..."
   ]
  },
  {
   "cell_type": "code",
   "execution_count": null,
   "metadata": {},
   "outputs": [],
   "source": []
  }
 ],
 "metadata": {
  "kernelspec": {
   "display_name": "Python 3",
   "language": "python",
   "name": "python3"
  },
  "language_info": {
   "codemirror_mode": {
    "name": "ipython",
    "version": 3
   },
   "file_extension": ".py",
   "mimetype": "text/x-python",
   "name": "python",
   "nbconvert_exporter": "python",
   "pygments_lexer": "ipython3",
   "version": "3.7.4"
  }
 },
 "nbformat": 4,
 "nbformat_minor": 2
}

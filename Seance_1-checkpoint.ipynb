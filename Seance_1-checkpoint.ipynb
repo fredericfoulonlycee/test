{
 "cells": [
  {
   "cell_type": "markdown",
   "metadata": {},
   "source": [
    "# Séance 1 : Affectation, fonction et instruction conditionnelle "
   ]
  },
  {
   "cell_type": "markdown",
   "metadata": {},
   "source": [
    "## Activité 1 : L'affectation et les types de variables "
   ]
  },
  {
   "cell_type": "markdown",
   "metadata": {},
   "source": [
    "Dans un algorithme, nous allons manipuler des données.On enregistre les données dans des espaces mémoires. On désigne par variable ces emplacements de stockage. Les variables sont repérés par des noms. En python, on affecte une valeur à une variable à l'aide du symbole \"=\". (le même symbole sauf qu'il n'a pas exactement la même signification.) \n",
    "L'affectation se lit de droite à gauche."
   ]
  },
  {
   "cell_type": "markdown",
   "metadata": {},
   "source": [
    "+ l'instruction *print(type(a))* permet d'afficher le type de la variable *a*\n",
    "+ Modifier cette instruction pour afficher le type des variables *b*,*c* et *L*"
   ]
  },
  {
   "cell_type": "code",
   "execution_count": null,
   "metadata": {},
   "outputs": [],
   "source": [
    "a = 100\n",
    "b = \"Bonjour le monde !\"\n",
    "c = 3.14\n",
    "L = [0,1,2,3,4,5]\n",
    "print(type(a))"
   ]
  },
  {
   "cell_type": "markdown",
   "metadata": {},
   "source": [
    "+ quel est le type des variables a, b et c et L ? \n",
    "+ **Noter les réponses sur votre compte rendu**"
   ]
  },
  {
   "cell_type": "markdown",
   "metadata": {},
   "source": [
    "## Activité 2 : Une fonction avec une instruction conditionnelle"
   ]
  },
  {
   "cell_type": "markdown",
   "metadata": {},
   "source": [
    "Une fondation attribue des bourses à des étudiants selon leur revenu imposable.\n",
    "Si ce revenu est supérieur ou égal à 30 000 € par an, l'étudiant n'a pas de bourse.\n",
    "Si ce revenu est supérieur ou égal à 15 000 € par an et strictement inférieur à 15 000 € le montant de la bourse est de \n",
    "1500 € auquel on retranche 5% du revenu.\n",
    "Si ce revenu est inférieur à 15 000 € par an, le montant de la bourse est de 1200 € auquel on retranche 3% du revenu."
   ]
  },
  {
   "cell_type": "markdown",
   "metadata": {},
   "source": [
    "+ Completer la fonction **revenu** ci-dessous\n",
    "+ modifier le montant du revenu en y affectant 42 000 € puis 22 000€ et 8000 € et en notant à chaque fois le montant \n",
    "de la bourse d'étude correspondante"
   ]
  },
  {
   "cell_type": "code",
   "execution_count": null,
   "metadata": {},
   "outputs": [],
   "source": [
    "def bourse(revenu):\n",
    "    if revenu >=30000:\n",
    "        montant = ...\n",
    "    elif ...<=revenu<=...:\n",
    "        montant = ...-...*revenu\n",
    "    else: \n",
    "        montant = ...-...*revenu\n",
    "    return montant"
   ]
  },
  {
   "cell_type": "code",
   "execution_count": null,
   "metadata": {},
   "outputs": [],
   "source": [
    "bourse(42000)"
   ]
  },
  {
   "cell_type": "markdown",
   "metadata": {},
   "source": [
    "## Activité 3 : Une fonction définie par intervalle"
   ]
  },
  {
   "cell_type": "markdown",
   "metadata": {},
   "source": [
    "On considère la fonction $f$ définie par le programme ci-dessous : "
   ]
  },
  {
   "cell_type": "code",
   "execution_count": null,
   "metadata": {},
   "outputs": [],
   "source": [
    "def f(x):\n",
    "    if x>2:\n",
    "        y = 3x-4\n",
    "    elif -1<x<2:\n",
    "        y = -x+4\n",
    "    else :\n",
    "        y = 2*x +7\n",
    "    return y"
   ]
  },
  {
   "cell_type": "markdown",
   "metadata": {},
   "source": [
    "+ Recopier et compléter l'expression de $f(x)$ ci-dessous :"
   ]
  },
  {
   "cell_type": "markdown",
   "metadata": {},
   "source": [
    "+ Modifier la fonction ci-dessus pour qu'elle retourne l'image d'un réel $x$ par la fonction définie pour tout réel $x$"
   ]
  },
  {
   "cell_type": "markdown",
   "metadata": {},
   "source": [
    "$$f(x)\\begin{cases} x^2-1 \\text{         }    si \\text{         }     x \\in\\left[ -1;+\\infty \\right[\\\\ 3x+3 si \\text{ } x \\in \\left]-\\infty;-1 \\right[ \\\\\n",
    "\\end{cases}$$"
   ]
  },
  {
   "cell_type": "markdown",
   "metadata": {},
   "source": [
    "## Activité 4 : Un test "
   ]
  },
  {
   "cell_type": "markdown",
   "metadata": {},
   "source": [
    "On considère la fonction ci-dessous : "
   ]
  },
  {
   "cell_type": "code",
   "execution_count": 13,
   "metadata": {},
   "outputs": [],
   "source": [
    "def test(n):\n",
    "    resultat=False\n",
    "    if n%3==0:\n",
    "        resultat=True \n",
    "    return resultat"
   ]
  },
  {
   "cell_type": "code",
   "execution_count": 15,
   "metadata": {},
   "outputs": [
    {
     "data": {
      "text/plain": [
       "True"
      ]
     },
     "execution_count": 15,
     "metadata": {},
     "output_type": "execute_result"
    }
   ],
   "source": [
    "test(12)\n"
   ]
  },
  {
   "cell_type": "markdown",
   "metadata": {},
   "source": [
    "+ Tester avec les valeurs suivantes 12, 15, 4697 et  4697643\n",
    "+ Expliquer ce que fait cette fonction sur votre compte rendu"
   ]
  }
 ],
 "metadata": {
  "kernelspec": {
   "display_name": "Python 3",
   "language": "python",
   "name": "python3"
  },
  "language_info": {
   "codemirror_mode": {
    "name": "ipython",
    "version": 3
   },
   "file_extension": ".py",
   "mimetype": "text/x-python",
   "name": "python",
   "nbconvert_exporter": "python",
   "pygments_lexer": "ipython3",
   "version": "3.7.4"
  }
 },
 "nbformat": 4,
 "nbformat_minor": 2
}
